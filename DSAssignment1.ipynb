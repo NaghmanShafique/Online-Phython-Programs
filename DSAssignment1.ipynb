{
 "cells": [
  {
   "cell_type": "code",
   "execution_count": 1,
   "id": "a795f8f5",
   "metadata": {},
   "outputs": [
    {
     "name": "stdout",
     "output_type": "stream",
     "text": [
      "Twinkle,twinkle,little star,\n",
      "        How I wonder what you are!\n",
      "                Up above the world so high,\n",
      "                Like a diamond in the sky\n",
      "Twinkle,twinkle,little star,\n",
      "        How I wonder what you are!\n"
     ]
    }
   ],
   "source": [
    "# 1. Write a Phython program to print the following string in a specified format (See the Output.) ?\n",
    "\n",
    "print('Twinkle,twinkle,little star,',end='\\n        ');\n",
    "print('How I wonder what you are!',end='\\n                ');\n",
    "print('Up above the world so high,',end='\\n                ');\n",
    "print('Like a diamond in the sky');\n",
    "print('Twinkle,twinkle,little star,',end='\\n        ');\n",
    "print('How I wonder what you are!');"
   ]
  },
  {
   "cell_type": "code",
   "execution_count": 2,
   "id": "99ade3f9",
   "metadata": {},
   "outputs": [
    {
     "name": "stdout",
     "output_type": "stream",
     "text": [
      "3.8.8 (default, Apr 13 2021, 15:08:03) [MSC v.1916 64 bit (AMD64)]\n"
     ]
    }
   ],
   "source": [
    "# 2. Write a phython program to get the phython version you are using?\n",
    "\n",
    "import sys\n",
    "print(sys.version);"
   ]
  },
  {
   "cell_type": "code",
   "execution_count": 3,
   "id": "3bf185a5",
   "metadata": {},
   "outputs": [
    {
     "name": "stdout",
     "output_type": "stream",
     "text": [
      "date and time now:  01/01/2022 21:48:25\n"
     ]
    }
   ],
   "source": [
    "# 3. Write a phython program do display the current date time.\n",
    "\n",
    "from datetime import datetime\n",
    "now = datetime.now()\n",
    "date_time = now.strftime(\"%d/%m/%Y %H:%M:%S\")\n",
    "print(\"date and time now: \", date_time);"
   ]
  },
  {
   "cell_type": "code",
   "execution_count": 4,
   "id": "43f8c90f",
   "metadata": {},
   "outputs": [
    {
     "name": "stdout",
     "output_type": "stream",
     "text": [
      "Input Radius :11\n",
      "379.94\n"
     ]
    }
   ],
   "source": [
    "# 4. Write a phython program which accepts the radius of a circle from the user and compute the area?\n",
    "\n",
    "radius = int(input(\"Input Radius :\"));\n",
    "pi_value = 3.14;\n",
    "result = radius**2;\n",
    "print(result*pi_value);"
   ]
  },
  {
   "cell_type": "code",
   "execution_count": 5,
   "id": "bff5471e",
   "metadata": {},
   "outputs": [
    {
     "name": "stdout",
     "output_type": "stream",
     "text": [
      "Enter First Name :Naghman\n",
      "Enter Last Name :Shafeeque\n",
      "Shafeeque Naghman\n"
     ]
    }
   ],
   "source": [
    "# 5. Write a phython program which accepts the user's first and last name and print them in reverse order\n",
    "#    with a space between them?\n",
    "\n",
    "first_name = input(\"Enter First Name :\");\n",
    "last_name  = input(\"Enter Last Name :\");\n",
    "print(last_name+\" \"+first_name);"
   ]
  },
  {
   "cell_type": "code",
   "execution_count": 6,
   "id": "39658f3a",
   "metadata": {},
   "outputs": [
    {
     "name": "stdout",
     "output_type": "stream",
     "text": [
      "Enter First Number :20\n",
      "Enter Second Number :16\n",
      "36\n"
     ]
    }
   ],
   "source": [
    "# 6. Write a phython program which takes two input from user and print then addition?\n",
    "\n",
    "first_num = input(\"Enter First Number :\");\n",
    "second_num = input(\"Enter Second Number :\");\n",
    "print(int(first_num)+int(second_num));"
   ]
  },
  {
   "cell_type": "code",
   "execution_count": null,
   "id": "77ef3414",
   "metadata": {},
   "outputs": [],
   "source": []
  }
 ],
 "metadata": {
  "kernelspec": {
   "display_name": "Python 3",
   "language": "python",
   "name": "python3"
  },
  "language_info": {
   "codemirror_mode": {
    "name": "ipython",
    "version": 3
   },
   "file_extension": ".py",
   "mimetype": "text/x-python",
   "name": "python",
   "nbconvert_exporter": "python",
   "pygments_lexer": "ipython3",
   "version": "3.8.8"
  }
 },
 "nbformat": 4,
 "nbformat_minor": 5
}
