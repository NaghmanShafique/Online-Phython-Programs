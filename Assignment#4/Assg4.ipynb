{
 "cells": [
  {
   "cell_type": "code",
   "execution_count": 39,
   "id": "ecd34d47",
   "metadata": {},
   "outputs": [
    {
     "name": "stdout",
     "output_type": "stream",
     "text": [
      "Enter you choice (1) Addition /(2) Subtraction /(3) Multiply/ (4) Divide / (5) for Power :1\n",
      "Enter First Value for Calculation :15\n",
      "Enter Second Value for Calculation:35\n",
      "50\n"
     ]
    }
   ],
   "source": [
    "# 1. Make a calculator using Python with addition , subtraction , multiplication ,division and power.\n",
    "\n",
    "def add_number(first_num,second_num):\n",
    "    total = first_num + second_num;\n",
    "    print(total);\n",
    "def sub_number(first_num,second_num):\n",
    "    total = first_num - second_num;\n",
    "    print(total);\n",
    "def multiply_number(first_num,second_num):\n",
    "    total = first_num * second_num;\n",
    "    print(total);\n",
    "def divide_number(first_num,second_num):\n",
    "    total = first_num / second_num;\n",
    "    print(total);\n",
    "def power_number(first_num,second_num):\n",
    "    total = first_num**second_num;\n",
    "    print(total);\n",
    "your_choice  = input(\"Enter you choice (1) Addition /(2) Subtraction /(3) Multiply/ (4) Divide / (5) for Power :\");\n",
    "value1 = int(input(\"Enter First Value for Calculation :\"));\n",
    "value2 = int(input(\"Enter Second Value for Calculation:\"));\n",
    "if your_choice == \"1\":\n",
    "    add_number(value1,value2);\n",
    "elif your_choice == \"2\":\n",
    "    sub_number(value1,value2);\n",
    "elif your_choice == \"3\":\n",
    "    multiply_number(value1,value2);\n",
    "elif your_choice == \"4\":\n",
    "    divide_number(value1,value2);\n",
    "elif your_choice == \"5\":\n",
    "    power_number(value1,value2);"
   ]
  },
  {
   "cell_type": "code",
   "execution_count": 2,
   "id": "422290d2",
   "metadata": {},
   "outputs": [
    {
     "name": "stdout",
     "output_type": "stream",
     "text": [
      "1978\n"
     ]
    }
   ],
   "source": [
    "# 2. Write a program to check if there is any numeric value in list using for loop.\n",
    "my_list = [\"Ali\", \"Adnan\", 1978, \"Zayyan\"]\n",
    "for x in my_list:\n",
    "    if type(x) == int:\n",
    "        print(x) "
   ]
  },
  {
   "cell_type": "code",
   "execution_count": 16,
   "id": "b4563392",
   "metadata": {},
   "outputs": [
    {
     "name": "stdout",
     "output_type": "stream",
     "text": [
      "{'Sindh': 'Karachi', 'Blochistan': 'Queta', 'Punjab': 'Lahore', 'KPK': None}\n"
     ]
    }
   ],
   "source": [
    "# 3. Write a Python script to add a key to a dictionary.\n",
    "\n",
    "my_dict = {\"Sindh\":\"Karachi\",\"Blochistan\":\"Queta\",\"Punjab\":\"Lahore\"};\n",
    "my_dict.setdefault(\"KPK\")\n",
    "print(my_dict);"
   ]
  },
  {
   "cell_type": "code",
   "execution_count": 6,
   "id": "90788d97",
   "metadata": {},
   "outputs": [
    {
     "name": "stdout",
     "output_type": "stream",
     "text": [
      "145\n"
     ]
    }
   ],
   "source": [
    "# 4. Write a Python program to sum all the numeric items in a dictionary.\n",
    "\n",
    "my_dict = {'data1':100,'data2':20,'data3':25}\n",
    "print(sum(my_dict.values()))"
   ]
  },
  {
   "cell_type": "code",
   "execution_count": 8,
   "id": "465733f1",
   "metadata": {},
   "outputs": [
    {
     "name": "stdout",
     "output_type": "stream",
     "text": [
      "100\n",
      "Ali\n"
     ]
    }
   ],
   "source": [
    "# 5. Write a program to identify duplicate values from list.\n",
    "\n",
    "my_list =[\"Ali\",100,\"Arsalan\",10,50,100,\"Ali\"];\n",
    "l1=[]\n",
    "for i in my_list:\n",
    "    if i not in l1:\n",
    "        l1.append(i);\n",
    "    else:\n",
    "        print(i);"
   ]
  },
  {
   "cell_type": "code",
   "execution_count": 5,
   "id": "bbdf6f13",
   "metadata": {},
   "outputs": [
    {
     "name": "stdout",
     "output_type": "stream",
     "text": [
      "Enter Key Value :2\n",
      "Key is present in the dictionary\n"
     ]
    }
   ],
   "source": [
    "# 6. Write a Python script to check if a given key already exists in a dictionary\n",
    "\n",
    "my_dict = {1:\"Ali\" , 2: \"Adnan\", 3: \"Zayyan\", 4: \"Naghman\", 5: 100, 6: 150};\n",
    "x = int(input(\"Enter Key Value :\"));\n",
    "if x in my_dict:\n",
    "    print('Key is present in the dictionary')\n",
    "else:\n",
    "    print('Key is not present in the dictionary')"
   ]
  }
 ],
 "metadata": {
  "kernelspec": {
   "display_name": "Python 3",
   "language": "python",
   "name": "python3"
  },
  "language_info": {
   "codemirror_mode": {
    "name": "ipython",
    "version": 3
   },
   "file_extension": ".py",
   "mimetype": "text/x-python",
   "name": "python",
   "nbconvert_exporter": "python",
   "pygments_lexer": "ipython3",
   "version": "3.8.8"
  }
 },
 "nbformat": 4,
 "nbformat_minor": 5
}
