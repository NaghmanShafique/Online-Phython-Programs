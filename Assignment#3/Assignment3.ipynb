{
 "cells": [
  {
   "cell_type": "code",
   "execution_count": 1,
   "id": "e5201195",
   "metadata": {},
   "outputs": [
    {
     "name": "stdout",
     "output_type": "stream",
     "text": [
      "Twinkle,twinkle,little star,\n",
      "        How I wonder what you are!\n",
      "                Up above the world so high,\n",
      "                Like a diamond in the sky\n",
      "Twinkle,twinkle,little star,\n",
      "        How I wonder what you are!\n"
     ]
    }
   ],
   "source": [
    "# 1. Write a Phython program to print the following string in a specified format (See the Output.) ?\n",
    "\n",
    "print('Twinkle,twinkle,little star,',end='\\n        ');\n",
    "print('How I wonder what you are!',end='\\n                ');\n",
    "print('Up above the world so high,',end='\\n                ');\n",
    "print('Like a diamond in the sky');\n",
    "print('Twinkle,twinkle,little star,',end='\\n        ');\n",
    "print('How I wonder what you are!');"
   ]
  },
  {
   "cell_type": "code",
   "execution_count": 2,
   "id": "3f8c5ba1",
   "metadata": {},
   "outputs": [
    {
     "name": "stdout",
     "output_type": "stream",
     "text": [
      "3.8.8 (default, Apr 13 2021, 15:08:03) [MSC v.1916 64 bit (AMD64)]\n"
     ]
    }
   ],
   "source": [
    "# 2. Write a phython program to get the phython version you are using?\n",
    "\n",
    "import sys\n",
    "print(sys.version);"
   ]
  },
  {
   "cell_type": "code",
   "execution_count": 3,
   "id": "c1e8353e",
   "metadata": {},
   "outputs": [
    {
     "name": "stdout",
     "output_type": "stream",
     "text": [
      "date and time now:  24/10/2021 13:59:29\n"
     ]
    }
   ],
   "source": [
    "# 3. Write a phython program do display the current date time.\n",
    "\n",
    "from datetime import datetime\n",
    "now = datetime.now()\n",
    "date_time = now.strftime(\"%d/%m/%Y %H:%M:%S\")\n",
    "print(\"date and time now: \", date_time);"
   ]
  },
  {
   "cell_type": "code",
   "execution_count": 4,
   "id": "324329a0",
   "metadata": {},
   "outputs": [
    {
     "name": "stdout",
     "output_type": "stream",
     "text": [
      "Input Radius :6\n",
      "113.04\n"
     ]
    }
   ],
   "source": [
    "# 4. Write a phython program which accepts the radius of a circle from the user and compute the area?\n",
    "\n",
    "radius = int(input(\"Input Radius :\"));\n",
    "pi_value = 3.14;\n",
    "result = radius**2;\n",
    "print(result*pi_value);"
   ]
  },
  {
   "cell_type": "code",
   "execution_count": 5,
   "id": "23942967",
   "metadata": {},
   "outputs": [
    {
     "name": "stdout",
     "output_type": "stream",
     "text": [
      "Enter First Name :Naghman\n",
      "Enter Last Name :Shafeeque\n",
      "Shafeeque Naghman\n"
     ]
    }
   ],
   "source": [
    "# 5. Write a phython program which accepts the user's first and last name and print them in reverse order\n",
    "#    with a space between them?\n",
    "\n",
    "first_name = input(\"Enter First Name :\");\n",
    "last_name  = input(\"Enter Last Name :\");\n",
    "print(last_name+\" \"+first_name);"
   ]
  },
  {
   "cell_type": "code",
   "execution_count": 6,
   "id": "34a9521d",
   "metadata": {},
   "outputs": [
    {
     "name": "stdout",
     "output_type": "stream",
     "text": [
      "Enter First Number :20\n",
      "Enter Second Number :35\n",
      "55\n"
     ]
    }
   ],
   "source": [
    "# 6. Write a phython program which takes two input from user and print then addition?\n",
    "\n",
    "first_num = input(\"Enter First Number :\");\n",
    "second_num = input(\"Enter Second Number :\");\n",
    "print(int(first_num)+int(second_num));"
   ]
  },
  {
   "cell_type": "code",
   "execution_count": 7,
   "id": "227ceffb",
   "metadata": {},
   "outputs": [
    {
     "name": "stdout",
     "output_type": "stream",
     "text": [
      "Input English Numbers :87\n",
      "Input Math Numbers :86\n",
      "Input Urdu Numbers :85\n",
      "Input Science Numbers :84\n",
      "Input Islamiat Numbers :83\n",
      "Grade A+\n"
     ]
    }
   ],
   "source": [
    "# 7. Write a program which takes 5 inputs from user for diffrent subjects marks, total it and\n",
    "#    generate mark sheet using grades?\n",
    "\n",
    "englisn_no = int(input(\"Input English Numbers :\"));\n",
    "math_no = int(input(\"Input Math Numbers :\"));\n",
    "urdu_no = int(input(\"Input Urdu Numbers :\"));\n",
    "sci_no  = int(input(\"Input Science Numbers :\"));\n",
    "isl_no  = int(input(\"Input Islamiat Numbers :\"));\n",
    "tot_no  = 500\n",
    "obtain_no = englisn_no + math_no + isl_no + urdu_no + sci_no;\n",
    "per  = obtain_no/tot_no * 100;\n",
    "if per >80 and per <= 100:\n",
    "    print(\"Grade A+\");\n",
    "elif per > 70 and per <= 80:\n",
    "    print(\"Grade A\");\n",
    "elif per > 60 and per <= 70:\n",
    "    print(\"Grade B\");\n",
    "elif per > 50 and per <= 60:\n",
    "    print(\"Grade C\");\n",
    "elif per > 40 and per <= 50:\n",
    "    print(\"Grade D\")\n",
    "elif per > 33 and per <= 40:\n",
    "    print(\"Grade E\");\n",
    "elif per >=1 and per <= 33:\n",
    "    print(\"Fail\");\n",
    "else:\n",
    "    print(\"Inapropriate Percentage\");\n"
   ]
  },
  {
   "cell_type": "code",
   "execution_count": 8,
   "id": "4b6f78a0",
   "metadata": {},
   "outputs": [
    {
     "name": "stdout",
     "output_type": "stream",
     "text": [
      "Input any Number :25\n",
      "Odd Number\n"
     ]
    }
   ],
   "source": [
    "# 8. Write a program which take input from user and identify that the given number is even or odd?\n",
    "\n",
    "any_num  = input(\"Input any Number :\");\n",
    "result = int(any_num)%2;\n",
    "if result == 1:\n",
    "    print(\"Odd Number\");\n",
    "else:\n",
    "    print(\"Even Number\");"
   ]
  },
  {
   "cell_type": "code",
   "execution_count": 9,
   "id": "23f51c20",
   "metadata": {},
   "outputs": [
    {
     "name": "stdout",
     "output_type": "stream",
     "text": [
      "5\n"
     ]
    }
   ],
   "source": [
    "# 9. Write a program which print the length of the list?\n",
    "\n",
    "my_list = [\"Karachi\" , \"Lahore\" , \"Islamabad\" , \"Queta\" , \"Peshawer\"];\n",
    "print(len(my_list));"
   ]
  },
  {
   "cell_type": "code",
   "execution_count": 10,
   "id": "af513c46",
   "metadata": {},
   "outputs": [
    {
     "name": "stdout",
     "output_type": "stream",
     "text": [
      "50\n"
     ]
    }
   ],
   "source": [
    "# 10. Write a phython program to sum all the numeric items in a list?\n",
    "\n",
    "num_list = [25,10,8,2,5];\n",
    "iterator = 0;\n",
    "sum_list = 0;\n",
    "while iterator <= (len(num_list)-1):\n",
    "    sum_list = sum_list + num_list[iterator];\n",
    "    iterator =iterator+1\n",
    "print(sum_list);"
   ]
  },
  {
   "cell_type": "code",
   "execution_count": 11,
   "id": "67835623",
   "metadata": {},
   "outputs": [
    {
     "name": "stdout",
     "output_type": "stream",
     "text": [
      "25\n"
     ]
    }
   ],
   "source": [
    "# 11. Write a phython program to get the largest number from numeric list?\n",
    "\n",
    "num_list = [25,10,8,2,5];\n",
    "max_num = max(num_list);\n",
    "print(max_num);"
   ]
  },
  {
   "cell_type": "code",
   "execution_count": 12,
   "id": "1e91adcc",
   "metadata": {},
   "outputs": [
    {
     "name": "stdout",
     "output_type": "stream",
     "text": [
      "[1, 1, 2, 3]\n"
     ]
    }
   ],
   "source": [
    "# 12. Take a list, say for example this one:\n",
    "#    a = [1,1,2,3,5,8,13,21,34,55,89]\n",
    "#    write a program that prints out all the elements of the list that are less than 5.\n",
    "    \n",
    "num_list = [1,1,2,3,5,8,13,21,34,55,89]\n",
    "new_list = num_list[0:num_list.index(5)];\n",
    "print(new_list);"
   ]
  },
  {
   "cell_type": "markdown",
   "id": "0fe62a39",
   "metadata": {},
   "source": [
    "##### "
   ]
  }
 ],
 "metadata": {
  "kernelspec": {
   "display_name": "Python 3",
   "language": "python",
   "name": "python3"
  },
  "language_info": {
   "codemirror_mode": {
    "name": "ipython",
    "version": 3
   },
   "file_extension": ".py",
   "mimetype": "text/x-python",
   "name": "python",
   "nbconvert_exporter": "python",
   "pygments_lexer": "ipython3",
   "version": "3.8.8"
  }
 },
 "nbformat": 4,
 "nbformat_minor": 5
}
